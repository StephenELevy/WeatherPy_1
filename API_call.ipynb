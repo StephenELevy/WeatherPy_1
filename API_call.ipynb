{
 "cells": [
  {
   "cell_type": "code",
   "execution_count": 1,
   "id": "feaa278b",
   "metadata": {},
   "outputs": [],
   "source": [
    "# Import the requests library\n",
    "import requests\n",
    "# Import the API key.\n",
    "from config import weather_api_key"
   ]
  },
  {
   "cell_type": "code",
   "execution_count": 2,
   "id": "12a817e7",
   "metadata": {},
   "outputs": [],
   "source": [
    "# Starting URL for Weather Map API call.\n",
    "url = \"https://api.openweathermap.org/data/2.5/weather?units=imperial&appid=\" + weather_api_key\n"
   ]
  },
  {
   "cell_type": "code",
   "execution_count": 3,
   "id": "b27d64d2",
   "metadata": {},
   "outputs": [
    {
     "data": {
      "text/plain": [
       "<Response [200]>"
      ]
     },
     "execution_count": 3,
     "metadata": {},
     "output_type": "execute_result"
    }
   ],
   "source": [
    "# Create an endpoint URL for a city.\n",
    "city=\"Houston\"\n",
    "query_url = url + \"&q=\" + city\n",
    "city_weather = requests.get(query_url)\n",
    "city_weather"
   ]
  },
  {
   "cell_type": "code",
   "execution_count": 4,
   "id": "3cd165eb",
   "metadata": {},
   "outputs": [
    {
     "data": {
      "text/plain": [
       "{'temp': 94.15,\n",
       " 'feels_like': 106.75,\n",
       " 'temp_min': 90.91,\n",
       " 'temp_max': 98.31,\n",
       " 'pressure': 1015,\n",
       " 'humidity': 58}"
      ]
     },
     "execution_count": 4,
     "metadata": {},
     "output_type": "execute_result"
    }
   ],
   "source": [
    "\n",
    "city_weather = requests.get(query_url)\n",
    "city_weather_json = city_weather.json()\n",
    "city_weather_json.keys()\n",
    "# dict_keys = ({'coord', 'weather', 'base', 'main', 'visibility', 'wind', 'rain'})\n",
    "city_weather_json.get('main')"
   ]
  },
  {
   "cell_type": "code",
   "execution_count": 5,
   "id": "719986e7",
   "metadata": {},
   "outputs": [
    {
     "data": {
      "text/plain": [
       "<Response [200]>"
      ]
     },
     "execution_count": 5,
     "metadata": {},
     "output_type": "execute_result"
    }
   ],
   "source": [
    "city_weather = requests.get(query_url)\n",
    "city_weather"
   ]
  },
  {
   "cell_type": "code",
   "execution_count": 6,
   "id": "e580e0ea",
   "metadata": {},
   "outputs": [
    {
     "data": {
      "text/plain": [
       "200"
      ]
     },
     "execution_count": 6,
     "metadata": {},
     "output_type": "execute_result"
    }
   ],
   "source": [
    "city_weather.status_code"
   ]
  },
  {
   "cell_type": "code",
   "execution_count": 7,
   "id": "732c8df3",
   "metadata": {},
   "outputs": [
    {
     "data": {
      "text/plain": [
       "{'coord': {'lon': -95.3633, 'lat': 29.7633},\n",
       " 'weather': [{'id': 800,\n",
       "   'main': 'Clear',\n",
       "   'description': 'clear sky',\n",
       "   'icon': '01d'}],\n",
       " 'base': 'stations',\n",
       " 'main': {'temp': 94.15,\n",
       "  'feels_like': 106.75,\n",
       "  'temp_min': 90.91,\n",
       "  'temp_max': 98.31,\n",
       "  'pressure': 1015,\n",
       "  'humidity': 58},\n",
       " 'visibility': 10000,\n",
       " 'wind': {'speed': 0, 'deg': 0},\n",
       " 'clouds': {'all': 0},\n",
       " 'dt': 1693068129,\n",
       " 'sys': {'type': 1,\n",
       "  'id': 4850,\n",
       "  'country': 'US',\n",
       "  'sunrise': 1693050927,\n",
       "  'sunset': 1693097497},\n",
       " 'timezone': -18000,\n",
       " 'id': 4699066,\n",
       " 'name': 'Houston',\n",
       " 'cod': 200}"
      ]
     },
     "execution_count": 7,
     "metadata": {},
     "output_type": "execute_result"
    }
   ],
   "source": [
    "city_weather.json()\n",
    "\n",
    "# With the JSON method, it is a lot easier to see the overall structure of the data,\n",
    "# which will make it easier to retrieve data such as temperature and humidity."
   ]
  },
  {
   "cell_type": "code",
   "execution_count": 8,
   "id": "38dd08cc",
   "metadata": {},
   "outputs": [
    {
     "data": {
      "text/plain": [
       "200"
      ]
     },
     "execution_count": 8,
     "metadata": {},
     "output_type": "execute_result"
    }
   ],
   "source": [
    "city_weather.status_code"
   ]
  },
  {
   "cell_type": "markdown",
   "id": "72e60203",
   "metadata": {},
   "source": [
    "# Handle Error Requests"
   ]
  },
  {
   "cell_type": "code",
   "execution_count": 9,
   "id": "f92e4e86",
   "metadata": {},
   "outputs": [
    {
     "name": "stdout",
     "output_type": "stream",
     "text": [
      "City Weather Found.\n"
     ]
    }
   ],
   "source": [
    "# When we submit a get() request for the city_weather, we want to make sure that\n",
    "# we get a valid response, i.e. 200, before we retrieve any data.\n",
    "\n",
    "# Create an endpoint URL for a city.\n",
    "city = \"Houston\"\n",
    "city_url = url + \"&q=\" + city\n",
    "\n",
    "city_weather = requests.get(city_url)\n",
    "\n",
    "if city_weather.status_code == 200:\n",
    "    print(f'City Weather Found.')\n",
    "else:\n",
    "    print(f'City Weather NOT found.')\n",
    "\n",
    "# If the status_code is something other than 200, JSON will always be returned\n",
    "# in the request. We can determine if the response was successful by checking the \n",
    "# status_code, clicking on the url, or retrieving specific information from the JSON data.\n",
    "\n"
   ]
  },
  {
   "cell_type": "code",
   "execution_count": 10,
   "id": "396251a8",
   "metadata": {},
   "outputs": [],
   "source": [
    "# Mod 6.2.5 parse a Response from an API\n",
    "\n",
    "# Start mining the JSON file to retrieve specific weather data for each city and add it to \n",
    "# a DataFrame.\n",
    "\n",
    "# For each city in our lat_lngs, we need to retrieve the following data and add it to a DataFrame:\n",
    "#   --> city, country, and date\n",
    "#   --> latitude and longitude\n",
    "#   --> Maximun Temperature\n",
    "#   --> humidity\n",
    "#   --> cloudiness\n",
    "#   --> wind speed\n",
    "# The final data should look like: (see page 27 of WeatherPy notes)"
   ]
  },
  {
   "cell_type": "markdown",
   "id": "f28efe0c",
   "metadata": {},
   "source": [
    "## The final data should look like: (see page 27 of WeatherPy notes)"
   ]
  },
  {
   "cell_type": "code",
   "execution_count": 11,
   "id": "07f60186",
   "metadata": {},
   "outputs": [
    {
     "data": {
      "text/plain": [
       "{'coord': {'lon': -95.3633, 'lat': 29.7633},\n",
       " 'weather': [{'id': 800,\n",
       "   'main': 'Clear',\n",
       "   'description': 'clear sky',\n",
       "   'icon': '01d'}],\n",
       " 'base': 'stations',\n",
       " 'main': {'temp': 94.15,\n",
       "  'feels_like': 106.75,\n",
       "  'temp_min': 90.91,\n",
       "  'temp_max': 98.31,\n",
       "  'pressure': 1015,\n",
       "  'humidity': 58},\n",
       " 'visibility': 10000,\n",
       " 'wind': {'speed': 0, 'deg': 0},\n",
       " 'clouds': {'all': 0},\n",
       " 'dt': 1693068129,\n",
       " 'sys': {'type': 1,\n",
       "  'id': 4850,\n",
       "  'country': 'US',\n",
       "  'sunrise': 1693050927,\n",
       "  'sunset': 1693097497},\n",
       " 'timezone': -18000,\n",
       " 'id': 4699066,\n",
       " 'name': 'Houston',\n",
       " 'cod': 200}"
      ]
     },
     "execution_count": 11,
     "metadata": {},
     "output_type": "execute_result"
    }
   ],
   "source": [
    "houston_data = city_weather.json()\n",
    "houston_data"
   ]
  },
  {
   "cell_type": "code",
   "execution_count": 12,
   "id": "3224cf65",
   "metadata": {},
   "outputs": [
    {
     "name": "stdout",
     "output_type": "stream",
     "text": [
      "29.7633 -95.3633 98.31 58 0 0\n"
     ]
    }
   ],
   "source": [
    "lat = houston_data['coord']['lat']\n",
    "lng = houston_data['coord']['lon']\n",
    "max_temp = houston_data['main']['temp_max']\n",
    "humidity = houston_data['main']['humidity']\n",
    "clouds = houston_data['clouds']['all']\n",
    "wind = houston_data['wind']['speed']\n",
    "print(lat, lng, max_temp, humidity, clouds, wind)"
   ]
  },
  {
   "cell_type": "markdown",
   "id": "ffd7df94",
   "metadata": {},
   "source": [
    "### Convert the timedate stamp"
   ]
  },
  {
   "cell_type": "code",
   "execution_count": 13,
   "id": "5c1168f0",
   "metadata": {},
   "outputs": [
    {
     "data": {
      "text/plain": [
       "'23-08-26 16:42:09'"
      ]
     },
     "execution_count": 13,
     "metadata": {},
     "output_type": "execute_result"
    }
   ],
   "source": [
    "date = houston_data['dt']\n",
    "\n",
    "# This format is called \"coordinated universal time (UTC) or Greenwich Mean Time (GMT). \n",
    "# If we want to convert the timestamp to the International Organization of Standardization (ISO)\n",
    "# format, or YYYY-MM-DD-HH-MM-SS, we need to use the python \"datetime\" modules.\n",
    "\n",
    "# Let's convert the date from the Houston weather data in JSON format to the ISO format.\n",
    "\n",
    "# Import the datetime module from the datetime library\n",
    "from datetime import datetime\n",
    "\n",
    "# Get the data from the JSON file\n",
    "date = houston_data['dt']\n",
    "\n",
    "# Convert the UTC date to a date format with YYYY-MM-DD-HH-MM-SS\n",
    "datetime.utcfromtimestamp(date)\n",
    "\n",
    "# We can convert this datetime format to 2023-08-26-15 15:51:47 using the \n",
    "# python string format strftime() method and adding how we want the string\n",
    "# to look inside the parentheses. \n",
    "\n",
    "# In our case, we would use strftime('%y-%m-%d %H:%M:%S')\n",
    "datetime.utcfromtimestamp(date).strftime('%y-%m-%d %H:%M:%S')\n",
    "\n",
    "# NOTE: For more information about the 'datetime' library amd the strftime() method, \n",
    "# see the documentation: \n",
    "# --> datetime\n",
    "# --> strftime\n",
    "\n"
   ]
  },
  {
   "cell_type": "markdown",
   "id": "622122ac",
   "metadata": {},
   "source": [
    "## Mod 6.2.6 Get the City Weather Data - retrieving the weather data for 500+ cities."
   ]
  },
  {
   "cell_type": "markdown",
   "id": "f3227b53",
   "metadata": {},
   "source": [
    "### Let's use pseudocode first:\n",
    "#### 1. Import our dependencies and initialize counter and an empty list that will hold the weather data.\n",
    "#### 2. Loop through the cities list.\n",
    "#### 3. Group the cities in sets of 50 to log the process as we find the weather data for each city.\n",
    "#####     Two counters will need to be here: one to log the city count from 1 to 50, and another for the sets.\n",
    "#### 4. Build the city_url or endpoint for each city.\n",
    "#### 5. Log the url and record and set numbers.\n",
    "#### 6. Make an api request for each city.\n",
    "#### 7. Parse the JSON weather data for the following\n",
    "##### ---> city, country, and date\n",
    "##### ---> latitude and longitude\n",
    "##### ---> maximum temperature\n",
    "##### ---> humidity\n",
    "##### ---> cloudiness\n",
    "##### ---> wind speed\n",
    "#### 8. Add the data to a list in a dictionary format and then convert it to a DataFrame."
   ]
  }
 ],
 "metadata": {
  "kernelspec": {
   "display_name": "Python 3 (ipykernel)",
   "language": "python",
   "name": "python3"
  },
  "language_info": {
   "codemirror_mode": {
    "name": "ipython",
    "version": 3
   },
   "file_extension": ".py",
   "mimetype": "text/x-python",
   "name": "python",
   "nbconvert_exporter": "python",
   "pygments_lexer": "ipython3",
   "version": "3.7.11"
  }
 },
 "nbformat": 4,
 "nbformat_minor": 5
}
