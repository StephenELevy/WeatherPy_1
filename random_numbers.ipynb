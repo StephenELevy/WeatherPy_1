{
 "cells": [
  {
   "cell_type": "code",
   "execution_count": 35,
   "metadata": {},
   "outputs": [],
   "source": [
    "# Import linear regression from the SciPy stats module\n",
    "from scipy.stats import linregress"
   ]
  },
  {
   "cell_type": "code",
   "execution_count": 36,
   "metadata": {},
   "outputs": [],
   "source": [
    "# Add the lats and temps to 2 lists.\n",
    "# Create an equal number of latitudes and termperatures.\n",
    "lats = [42.5, 43.9, 8.1, 36.8, 79.9, 69.1, 25.7, 15.3, 12.7, 64.5]\n",
    "temps = [80.5, 75.3, 90.9, 90.0, 40.4, 62.3, 85.4, 79.6, 72.5, 72.0]"
   ]
  },
  {
   "cell_type": "code",
   "execution_count": 37,
   "metadata": {},
   "outputs": [
    {
     "name": "stdout",
     "output_type": "stream",
     "text": [
      "y= -0.45x + 92.94\n",
      "The p-value is 0.011.\n"
     ]
    }
   ],
   "source": [
    "# Next, use the linregress function to calculate the slope, y-intercept, correlation coefficient (r-value),\n",
    "# p-value, and standard deviation.\n",
    "\n",
    "# Perform the linear regression.\n",
    "(slope, intercept, r_value, p_value, std_err) = linregress(lats, temps)\n",
    "line_eq = \"y= \" + str(round(slope,2)) + \"x + \" + str(round(intercept, 2))\n",
    "print(line_eq)\n",
    "print(f'The p-value is {p_value:.3f}.')\n",
    "\n",
    "# The linregress() function takes two arguments, the x- and y-axes data, lats and temps in \n",
    "# the form of arrays, and it returns the following:\n",
    "#   --> slope of the regression line as \"slope\"\n",
    "#   --> y-intercept as \"intercept\"\n",
    "#   --> correlation coefficient as \"r_value\"\n",
    "#   --> p-value as \"p_value\"\n",
    "#   --> standard error as \"std_err\"\n",
    "\n",
    "# IMPORTANT: the \"slope\", \"intercept\", \"r_value\", \"p_value\", and \"std_err\" are\n",
    "# always returned when we run the linregress() function. If you do not want to \n",
    "# calculate one of these values but do not add it inside the parentheses, \n",
    "# you'll get a \"ValueError: too many values to unpack\"\n",
    "\n",
    "# To prevent the error, add a comma or underscore for each value you do NOT\n",
    "# want to calculate. Example (slope, intercept, r_value, _, _) = linregress(x, y)\n",
    "\n"
   ]
  },
  {
   "cell_type": "code",
   "execution_count": 38,
   "metadata": {},
   "outputs": [
    {
     "name": "stdout",
     "output_type": "stream",
     "text": [
      "y= -0.45x + 92.94\n",
      "The p-value is 0.011.\n"
     ]
    }
   ],
   "source": [
    "(slope, intercept, r_value, _, _) = linregress(lats, temps)\n",
    "line_eq = \"y= \" + str(round(slope,2)) + \"x + \" + str(round(intercept, 2))\n",
    "print(line_eq)\n",
    "print(f'The p-value is {p_value:.3f}.')\n"
   ]
  },
  {
   "cell_type": "code",
   "execution_count": 39,
   "metadata": {},
   "outputs": [],
   "source": [
    "### Now, we can calculate the ideal temperatures (y-values) using the slope and intercept\n",
    "### from the equation of the regression line. \n",
    "\n",
    "# Calculate the regression line \"v-values\" from the slope and intercept\n",
    "\n",
    "regress_values = [(lat * slope + intercept) for lat in lats]"
   ]
  },
  {
   "cell_type": "code",
   "execution_count": 40,
   "metadata": {},
   "outputs": [
    {
     "data": {
      "image/png": "[encoded data removed]",
      "text/plain": [
       "<Figure size 432x288 with 1 Axes>"
      ]
     },
     "metadata": {
      "needs_background": "light"
     },
     "output_type": "display_data"
    }
   ],
   "source": [
    "# Add the following code to our data.\n",
    "# Import MatPlotLib\n",
    "import matplotlib.pyplot as plt\n",
    "# Create a scatter plot of the x and y values\n",
    "plt.scatter(lats, temps)\n",
    "# Plot the regression line with the x-values & the y-coordinates based on the slope and intercept.\n",
    "plt.plot(lats, regress_values, \"r\")\n",
    "# Annotate the text for the line equation and add its coordinates.\n",
    "plt.annotate(line_eq, (10,40), fontsize=15, color=\"red\")\n",
    "plt.xlabel(\"latitude\")\n",
    "plt.ylabel('Temp')\n",
    "plt.show()\n",
    "\n",
    "\n",
    "# Let's review what the code does:\n",
    "# ---> We plot the latitudes and temperatures as a scatter plot.\n",
    "# ---> We create a line plot of our regression line with the ideal temperatures.\n",
    "# ---> We annotate the line plot by adding the equation of our regression line,\n",
    "#      where the x-axis is 10 and the y-axis is 40, and specify the font and color.\n",
    "# ---> We create the x- and y-labels."
   ]
  }
 ],
 "metadata": {
  "kernelspec": {
   "display_name": "PythonData",
   "language": "python",
   "name": "python3"
  },
  "language_info": {
   "codemirror_mode": {
    "name": "ipython",
    "version": 3
   },
   "file_extension": ".py",
   "mimetype": "text/x-python",
   "name": "python",
   "nbconvert_exporter": "python",
   "pygments_lexer": "ipython3",
   "version": "3.7.11"
  },
  "orig_nbformat": 4
 },
 "nbformat": 4,
 "nbformat_minor": 2
}
