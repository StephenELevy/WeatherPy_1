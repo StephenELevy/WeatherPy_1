{
 "cells": [
  {
   "cell_type": "code",
   "execution_count": 107,
   "metadata": {},
   "outputs": [],
   "source": [
    "# Import the dependencies\n",
    "import random\n",
    "import pandas as pd\n",
    "import matplotlib.pyplot as plt\n",
    "import numpy as np\n",
    "from citipy import citipy"
   ]
  },
  {
   "cell_type": "code",
   "execution_count": 108,
   "metadata": {},
   "outputs": [],
   "source": [
    "lats = np.random.uniform(low=-90.000, high=90.000, size=1500)\n",
    "lngs = np.random.uniform(low=-180.000, high=180.000, size=1500)\n",
    "coordinates = zip(lats, lngs)"
   ]
  },
  {
   "cell_type": "code",
   "execution_count": 109,
   "metadata": {},
   "outputs": [
    {
     "data": {
      "text/plain": [
       "629"
      ]
     },
     "execution_count": 109,
     "metadata": {},
     "output_type": "execute_result"
    }
   ],
   "source": [
    "# In a new cell, display the coordinate pairs with the following code.\n",
    "# NOTE: You can only UNZIP a tuple ONCE before it is removed from the computer's memory.\n",
    "# Use the tuple() to display the latitude and longitude combination.\n",
    "# Also show the nearest city name and country code that corresponds to the coordinate pair.\n",
    "# The citipy modules finds the nearest city to the latitude and longitude pair with a\n",
    "# population of 500 or more.\n",
    "\n",
    "cities = list()\n",
    "for coordinate in coordinates:\n",
    "#    print(coordinate[0], coordinate[1])\n",
    "#    print(citipy.nearest_city(coordinate[0], coordinate[1]).city_name)\n",
    "#    print(citipy.nearest_city(coordinate[0], coordinate[1]).country_code)\n",
    "\n",
    "    city = citipy.nearest_city(coordinate[0], coordinate[1]).city_name\n",
    "\n",
    "    # If the city is unique, then we'll add it to the cities list\n",
    "    if city not in cities:\n",
    "        cities.append(city)\n",
    "\n",
    "# print the city count to confirm sufficient count.\n",
    "len(cities)\n",
    "\n",
    "# Next, let's unpack our lats_lngs zip object into a list."
   ]
  }
 ],
 "metadata": {
  "kernelspec": {
   "display_name": "Python 3 (ipykernel)",
   "language": "python",
   "name": "python3"
  },
  "language_info": {
   "codemirror_mode": {
    "name": "ipython",
    "version": 3
   },
   "file_extension": ".py",
   "mimetype": "text/x-python",
   "name": "python",
   "nbconvert_exporter": "python",
   "pygments_lexer": "ipython3",
   "version": "3.7.11"
  }
 },
 "nbformat": 4,
 "nbformat_minor": 2
}
